{
 "cells": [
  {
   "cell_type": "code",
   "execution_count": 82,
   "metadata": {
    "collapsed": false
   },
   "outputs": [
    {
     "name": "stdout",
     "output_type": "stream",
     "text": [
      "[[0. 0. 0. ... 0. 0. 0.]\n",
      " [0. 0. 0. ... 0. 0. 0.]\n",
      " [0. 0. 0. ... 0. 0. 0.]\n",
      " ...\n",
      " [0. 0. 0. ... 0. 0. 0.]\n",
      " [0. 0. 0. ... 0. 0. 0.]\n",
      " [0. 0. 0. ... 0. 0. 0.]]\n"
     ]
    }
   ],
   "source": [
    "import numpy as np\n",
    "\n",
    "def is_in_poly(x, y, polygon):\n",
    "    \"\"\"\n",
    "    whether one point is inside a 2-D poly\n",
    "    :param x: point_x\n",
    "    :param y: point_y\n",
    "    :param polygon: array of polygon vertex：k * 2\n",
    "    :return: true or false\n",
    "    \"\"\"\n",
    "    poly_xs = polygon[:, 0]\n",
    "    poly_ys = polygon[:, 1]\n",
    "    odd_cross = False\n",
    "    for i in range(len(poly_xs)):\n",
    "        j = i - 1 if i > 0 else len(poly_xs) - 1\n",
    "        if poly_ys[i] < y <= poly_ys[j] or poly_ys[j] < y <= poly_ys[i]:\n",
    "            if poly_xs[i] + (y - poly_ys[i]) * (poly_xs[j] - poly_xs[i]) / (poly_ys[j] - poly_ys[i]) < x:  # wont divide 0\n",
    "                odd_cross = False if odd_cross else True\n",
    "    return odd_cross\n",
    "\n",
    "\n",
    "def graph_in_poly(graph, polygon):\n",
    "    \"\"\"\n",
    "    setting pixel to one if the pixel in polygon\n",
    "    :param graph: a 2-D graph: m * m arraty\n",
    "    :param polygon: array of polygon vertex：k * 2\n",
    "    :return: new 2-D array\n",
    "    \"\"\"\n",
    "    \n",
    "    new_graph = graph\n",
    "    \n",
    "    for i in range(graph.shape[0]):\n",
    "        for j in range(graph.shape[1]):\n",
    "            if is_in_poly(i,j, polygon):\n",
    "                new_graph[i, j] = 1\n",
    "    \n",
    "    return new_graph\n",
    "\n",
    "m = 80\n",
    "\n",
    "graph = np.zeros([m,m])\n",
    "\n",
    "polygon_array = np.array([[40.1, 40.1], [60.1, 30.1], [20.1, 20.1], [50.1, 30.1]])\n",
    "\n",
    "new_graph = graph_in_poly(graph, polygon_array)\n",
    "\n",
    "print(new_graph)"
   ]
  },
  {
   "cell_type": "code",
   "execution_count": 83,
   "metadata": {
    "collapsed": false
   },
   "outputs": [
    {
     "data": {
      "text/plain": [
       "(80, 80)"
      ]
     },
     "execution_count": 83,
     "metadata": {},
     "output_type": "execute_result"
    }
   ],
   "source": [
    "new_graph.shape"
   ]
  },
  {
   "cell_type": "code",
   "execution_count": 84,
   "metadata": {
    "collapsed": false
   },
   "outputs": [
    {
     "data": {
      "image/png": "[encoded data removed]",
      "text/plain": [
       "<Figure size 432x288 with 1 Axes>"
      ]
     },
     "metadata": {},
     "output_type": "display_data"
    }
   ],
   "source": [
    "plt.imshow(new_graph)\n",
    "plt.show()"
   ]
  },
  {
   "cell_type": "code",
   "execution_count": 87,
   "metadata": {
    "collapsed": false
   },
   "outputs": [
    {
     "data": {
      "image/png": "[encoded data removed]",
      "text/plain": [
       "<Figure size 432x288 with 1 Axes>"
      ]
     },
     "metadata": {},
     "output_type": "display_data"
    }
   ],
   "source": [
    "import matplotlib\n",
    "from matplotlib.patches import Circle, Wedge, Polygon\n",
    "from matplotlib.collections import PatchCollection\n",
    "import matplotlib.pyplot as plt\n",
    "\n",
    "# Fixing random state for reproducibility\n",
    "np.random.seed(19680801)\n",
    "\n",
    "polygon = Polygon(polygon_array, True)\n",
    "\n",
    "fig, ax = plt.subplots()\n",
    "\n",
    "resolution = 50  # the number of vertices\n",
    "\n",
    "patches = []\n",
    "\n",
    "patches.append(polygon)\n",
    "\n",
    "p = PatchCollection(patches, alpha=0.4)\n",
    "p.set_array(np.array(colors))\n",
    "ax.add_collection(p)\n",
    "\n",
    "plt.xlim(0, m)\n",
    "plt.ylim(0, m)\n",
    "\n",
    "plt.show()"
   ]
  },
  {
   "cell_type": "code",
   "execution_count": 67,
   "metadata": {
    "collapsed": false
   },
   "outputs": [
    {
     "name": "stdout",
     "output_type": "stream",
     "text": [
      "it works True\n"
     ]
    }
   ],
   "source": [
    "def is_in_poly(x, y, poly_xs, poly_ys):\n",
    "    \"\"\"\n",
    "    whether one point is inside a 2-D poly\n",
    "    :param x: point_x\n",
    "    :param y: point_y\n",
    "    :param poly_xs: xs of poly\n",
    "    :param poly_ys: ys of poly\n",
    "    :return: true or false\n",
    "    \"\"\"\n",
    "    odd_cross = False\n",
    "    for i in range(len(poly_xs)):\n",
    "        j = i - 1 if i > 0 else len(poly_xs) - 1\n",
    "        if poly_ys[i] < y <= poly_ys[j] or poly_ys[j] < y <= poly_ys[i]:\n",
    "            if poly_xs[i] + (y - poly_ys[i]) * (poly_xs[j] - poly_xs[i]) / (poly_ys[j] - poly_ys[i]) < x:  # wont divide 0\n",
    "                odd_cross = False if odd_cross else True\n",
    "    return odd_cross\n",
    "\n",
    "\n",
    "def demo():\n",
    "    \"\"\"\n",
    "    test functional\n",
    "    \"\"\"\n",
    "    print(\"it works\", is_in_poly(5, 5, polygon_array[:,0], polygon_array[:,1]))\n",
    "    \n",
    "demo()"
   ]
  }
 ],
 "metadata": {
  "kernelspec": {
   "display_name": "Python 3",
   "language": "python",
   "name": "python3"
  },
  "language_info": {
   "codemirror_mode": {
    "name": "ipython",
    "version": 3
   },
   "file_extension": ".py",
   "mimetype": "text/x-python",
   "name": "python",
   "nbconvert_exporter": "python",
   "pygments_lexer": "ipython3",
   "version": "3.6.3"
  }
 },
 "nbformat": 4,
 "nbformat_minor": 2
}
